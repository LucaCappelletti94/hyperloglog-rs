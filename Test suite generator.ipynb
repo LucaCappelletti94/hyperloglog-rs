{
 "cells": [
  {
   "cell_type": "code",
   "execution_count": 1,
   "id": "dbcd1beb",
   "metadata": {},
   "outputs": [],
   "source": [
    "minimum_precision = 4\n",
    "# THIS IS AN INCLUSIVE RANGE!!\n",
    "maximum_precision = 16\n",
    "bits_per_registry = 6\n",
    "registry_per_word = (32 // bits_per_registry)"
   ]
  },
  {
   "cell_type": "code",
   "execution_count": 2,
   "id": "a3291467",
   "metadata": {},
   "outputs": [],
   "source": [
    "test = \"\"\"\n",
    "use hyperloglog_rs::prelude::*;\n",
    "\n",
    "#[test]\n",
    "pub fn test_hyper_log_log_at_precision_{precision}() {{\n",
    "    const PRECISION: usize = {precision};\n",
    "    \n",
    "    for elements in [5, 10, 15, 100, 200, 1000, 10_000, 100_000, 1_000_000]{{\n",
    "        let mut hll: HyperLogLog<PRECISION> = HyperLogLog::new();\n",
    "\n",
    "        for i in 0..elements {{\n",
    "            hll.insert(i);\n",
    "        }}\n",
    "\n",
    "        assert!(\n",
    "            hll.count_dispatched() >= elements as f32 * 7.0_f32 / 10.0_f32,\n",
    "            \"Obtained: {{}}, Expected around: {{}}\",\n",
    "            hll.count_dispatched(), elements\n",
    "        );\n",
    "\n",
    "        assert!(\n",
    "            hll.count() >= elements as f32 * 7.0_f32 / 10.0_f32,\n",
    "            \"Obtained: {{}}, Expected around: {{}}\",\n",
    "            hll.count(), elements\n",
    "        );\n",
    "\n",
    "        assert!(\n",
    "            hll.count_dispatched() <= elements as f32 * 14.0_f32 / 10.0_f32,\n",
    "            \"Obtained: {{}}, Expected around: {{}}\",\n",
    "            hll.count_dispatched(), elements\n",
    "        );\n",
    "\n",
    "        assert!(\n",
    "            hll.count() <= elements as f32 * 14.0_f32 / 10.0_f32,\n",
    "            \"Obtained: {{}}, Expected around: {{}}\",\n",
    "            hll.count(), elements\n",
    "        );\n",
    "    }}\n",
    "}}\n",
    "\"\"\""
   ]
  },
  {
   "cell_type": "code",
   "execution_count": 3,
   "id": "466efaab",
   "metadata": {},
   "outputs": [],
   "source": [
    "for precision in range(minimum_precision, 13):\n",
    "    with open(f\"tests/test_hll_{precision}.rs\", \"w\") as f:\n",
    "        f.write(test.format(\n",
    "            precision=precision\n",
    "        ))"
   ]
  }
 ],
 "metadata": {
  "kernelspec": {
   "display_name": "Python 3 (ipykernel)",
   "language": "python",
   "name": "python3"
  },
  "language_info": {
   "codemirror_mode": {
    "name": "ipython",
    "version": 3
   },
   "file_extension": ".py",
   "mimetype": "text/x-python",
   "name": "python",
   "nbconvert_exporter": "python",
   "pygments_lexer": "ipython3",
   "version": "3.7.13"
  }
 },
 "nbformat": 4,
 "nbformat_minor": 5
}
