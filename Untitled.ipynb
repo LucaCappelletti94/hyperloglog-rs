{
 "cells": [
  {
   "cell_type": "code",
   "execution_count": null,
   "id": "bc9f138f",
   "metadata": {},
   "outputs": [],
   "source": [
    "for precision in range(4, 17):\n",
    "    for bits in range(4, 7):\n",
    "        expected_max_value = \n",
    "        number_of_words_per_register = 32 // bits\n",
    "        for index in range(0, 2**precision):\n",
    "            "
   ]
  },
  {
   "cell_type": "code",
   "execution_count": 11,
   "id": "248c3bc9",
   "metadata": {},
   "outputs": [
    {
     "data": {
      "text/plain": [
       "12"
      ]
     },
     "execution_count": 11,
     "metadata": {},
     "output_type": "execute_result"
    }
   ],
   "source": [
    "(2**6) // 5"
   ]
  },
  {
   "cell_type": "code",
   "execution_count": 5,
   "id": "af606a29",
   "metadata": {},
   "outputs": [
    {
     "data": {
      "text/plain": [
       "8"
      ]
     },
     "execution_count": 5,
     "metadata": {},
     "output_type": "execute_result"
    }
   ],
   "source": [
    "32 // 4"
   ]
  },
  {
   "cell_type": "code",
   "execution_count": 7,
   "id": "20a4361a",
   "metadata": {},
   "outputs": [
    {
     "data": {
      "text/plain": [
       "64"
      ]
     },
     "execution_count": 7,
     "metadata": {},
     "output_type": "execute_result"
    }
   ],
   "source": [
    "2**6"
   ]
  },
  {
   "cell_type": "code",
   "execution_count": null,
   "id": "c8ccf29a",
   "metadata": {},
   "outputs": [],
   "source": []
  }
 ],
 "metadata": {
  "kernelspec": {
   "display_name": "Python 3 (ipykernel)",
   "language": "python",
   "name": "python3"
  },
  "language_info": {
   "codemirror_mode": {
    "name": "ipython",
    "version": 3
   },
   "file_extension": ".py",
   "mimetype": "text/x-python",
   "name": "python",
   "nbconvert_exporter": "python",
   "pygments_lexer": "ipython3",
   "version": "3.8.16"
  }
 },
 "nbformat": 4,
 "nbformat_minor": 5
}
