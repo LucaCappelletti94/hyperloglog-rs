{
 "cells": [
  {
   "cell_type": "code",
   "execution_count": 1,
   "id": "cd81dc79",
   "metadata": {},
   "outputs": [],
   "source": [
    "minimum_precision = 4\n",
    "# THIS IS AN INCLUSIVE RANGE!!\n",
    "maximum_precision = 16"
   ]
  },
  {
   "cell_type": "code",
   "execution_count": 2,
   "id": "246a3f77",
   "metadata": {},
   "outputs": [],
   "source": [
    "import numpy as np\n",
    "\n",
    "def compute_correction(\n",
    "    number_of_registers: float,\n",
    "    number_of_zero_registers: float\n",
    ") -> float:\n",
    "    return number_of_registers * np.log(number_of_registers / number_of_zero_registers)\n",
    "\n",
    "cases = []\n",
    "for precision in range(minimum_precision, maximum_precision - 3):\n",
    "    number_of_registers = 2**precision\n",
    "    slice_values = []\n",
    "    for number_of_zero_registers in range(1, number_of_registers + 1):\n",
    "        result = number_of_registers * np.log(number_of_registers / number_of_zero_registers)\n",
    "        slice_values.append(f\"{result:.3f}\")\n",
    "    values = \", \".join(slice_values)\n",
    "    cases.append(f\"\\t\\t{number_of_registers} => [{values}][number_of_zero_registers - 1],\")\n",
    "cases = \"\\n\".join(cases)\n",
    "correct_value = compute_correction(16, 2)"
   ]
  },
  {
   "cell_type": "code",
   "execution_count": 3,
   "id": "6bdc717c",
   "metadata": {},
   "outputs": [],
   "source": [
    "correction_lookup = f\"\"\"\n",
    "/// Returns a lookup table value for small range correction given a number of zero registers\n",
    "/// and a number of total registers. The small range correction is used to adjust the\n",
    "/// cardinality estimate for cases where the estimate is smaller than half of the total number\n",
    "/// of registers, which can result in undercounting due to the limited number of registers.\n",
    "///\n",
    "/// The correction factor is calculated as m * ln(m/v), where m is the total number of registers\n",
    "/// and v is the number of zero registers. The function returns a lookup table value for the\n",
    "/// correction factor based on the input parameters. The lookup table contains precomputed values\n",
    "/// for the most common combinations of N (total number of registers) and v (number of zero registers).\n",
    "///\n",
    "/// # Arguments\n",
    "/// * `number_of_zero_registers`: The number of registers with value 0\n",
    "///\n",
    "/// # Examples\n",
    "///\n",
    "/// ```\n",
    "/// # use hyperloglog_rs::prelude::*;\n",
    "/// let result = get_small_correction_lookup_table::<16>(2);\n",
    "/// assert_eq!(result, {correct_value:.3f}_f32);\n",
    "/// ```\n",
    "pub fn get_small_correction_lookup_table<const NUMBER_OF_REGISTERS: usize>(\n",
    "    number_of_zero_registers: usize,\n",
    ") -> f32 {{\n",
    "    match NUMBER_OF_REGISTERS {{\n",
    "{cases}\n",
    "        _ => NUMBER_OF_REGISTERS as f32 * (NUMBER_OF_REGISTERS as f32 / number_of_zero_registers as f32).ln(),\n",
    "    }}\n",
    "}}\n",
    "\"\"\""
   ]
  },
  {
   "cell_type": "code",
   "execution_count": 4,
   "id": "163a461c",
   "metadata": {},
   "outputs": [],
   "source": [
    "with open(\"src/small_corrections_lookup_table.rs\", \"w\") as f:\n",
    "    f.write(correction_lookup)"
   ]
  }
 ],
 "metadata": {
  "kernelspec": {
   "display_name": "Python 3 (ipykernel)",
   "language": "python",
   "name": "python3"
  },
  "language_info": {
   "codemirror_mode": {
    "name": "ipython",
    "version": 3
   },
   "file_extension": ".py",
   "mimetype": "text/x-python",
   "name": "python",
   "nbconvert_exporter": "python",
   "pygments_lexer": "ipython3",
   "version": "3.7.13"
  }
 },
 "nbformat": 4,
 "nbformat_minor": 5
}
